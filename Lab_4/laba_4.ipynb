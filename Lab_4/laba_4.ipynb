{
 "cells": [
  {
   "cell_type": "markdown",
   "metadata": {
    "colab_type": "text",
    "id": "view-in-github"
   },
   "source": [
    "<a href=\"https://colab.research.google.com/github/nikbizkit/MMO/blob/main/Lab4.ipynb\" target=\"_parent\"><img src=\"https://colab.research.google.com/assets/colab-badge.svg\" alt=\"Open In Colab\"/></a>"
   ]
  },
  {
   "cell_type": "code",
   "execution_count": 31,
   "metadata": {
    "id": "ea66e6e9"
   },
   "outputs": [],
   "source": [
    "import pandas as pd\n",
    "from sklearn.feature_extraction.text import CountVectorizer, TfidfVectorizer\n",
    "from sklearn.metrics.pairwise import cosine_similarity, euclidean_distances, manhattan_distances"
   ]
  },
  {
   "cell_type": "markdown",
   "metadata": {
    "id": "7949f94a"
   },
   "source": [
    "Загрузим датасет:"
   ]
  },
  {
   "cell_type": "code",
   "execution_count": 32,
   "metadata": {
    "colab": {
     "base_uri": "https://localhost:8080/",
     "height": 302
    },
    "id": "e5a27114",
    "outputId": "7afa212a-7b0f-4670-fdf6-dcb7a2796c90"
   },
   "outputs": [
    {
     "data": {
      "text/html": [
       "<div>\n",
       "<style scoped>\n",
       "    .dataframe tbody tr th:only-of-type {\n",
       "        vertical-align: middle;\n",
       "    }\n",
       "\n",
       "    .dataframe tbody tr th {\n",
       "        vertical-align: top;\n",
       "    }\n",
       "\n",
       "    .dataframe thead th {\n",
       "        text-align: right;\n",
       "    }\n",
       "</style>\n",
       "<table border=\"1\" class=\"dataframe\">\n",
       "  <thead>\n",
       "    <tr style=\"text-align: right;\">\n",
       "      <th></th>\n",
       "      <th>Rank</th>\n",
       "      <th>Name</th>\n",
       "      <th>Platform</th>\n",
       "      <th>Year</th>\n",
       "      <th>Genre</th>\n",
       "      <th>Publisher</th>\n",
       "      <th>NA_Sales</th>\n",
       "      <th>EU_Sales</th>\n",
       "      <th>JP_Sales</th>\n",
       "      <th>Other_Sales</th>\n",
       "      <th>Global_Sales</th>\n",
       "    </tr>\n",
       "  </thead>\n",
       "  <tbody>\n",
       "    <tr>\n",
       "      <th>0</th>\n",
       "      <td>1</td>\n",
       "      <td>Wii Sports</td>\n",
       "      <td>Wii</td>\n",
       "      <td>2006.0</td>\n",
       "      <td>Sports</td>\n",
       "      <td>Nintendo</td>\n",
       "      <td>41.49</td>\n",
       "      <td>29.02</td>\n",
       "      <td>3.77</td>\n",
       "      <td>8.46</td>\n",
       "      <td>82.74</td>\n",
       "    </tr>\n",
       "    <tr>\n",
       "      <th>1</th>\n",
       "      <td>2</td>\n",
       "      <td>Super Mario Bros.</td>\n",
       "      <td>NES</td>\n",
       "      <td>1985.0</td>\n",
       "      <td>Platform</td>\n",
       "      <td>Nintendo</td>\n",
       "      <td>29.08</td>\n",
       "      <td>3.58</td>\n",
       "      <td>6.81</td>\n",
       "      <td>0.77</td>\n",
       "      <td>40.24</td>\n",
       "    </tr>\n",
       "    <tr>\n",
       "      <th>2</th>\n",
       "      <td>3</td>\n",
       "      <td>Mario Kart Wii</td>\n",
       "      <td>Wii</td>\n",
       "      <td>2008.0</td>\n",
       "      <td>Racing</td>\n",
       "      <td>Nintendo</td>\n",
       "      <td>15.85</td>\n",
       "      <td>12.88</td>\n",
       "      <td>3.79</td>\n",
       "      <td>3.31</td>\n",
       "      <td>35.82</td>\n",
       "    </tr>\n",
       "    <tr>\n",
       "      <th>3</th>\n",
       "      <td>4</td>\n",
       "      <td>Wii Sports Resort</td>\n",
       "      <td>Wii</td>\n",
       "      <td>2009.0</td>\n",
       "      <td>Sports</td>\n",
       "      <td>Nintendo</td>\n",
       "      <td>15.75</td>\n",
       "      <td>11.01</td>\n",
       "      <td>3.28</td>\n",
       "      <td>2.96</td>\n",
       "      <td>33.00</td>\n",
       "    </tr>\n",
       "    <tr>\n",
       "      <th>4</th>\n",
       "      <td>5</td>\n",
       "      <td>Pokemon Red/Pokemon Blue</td>\n",
       "      <td>GB</td>\n",
       "      <td>1996.0</td>\n",
       "      <td>Role-Playing</td>\n",
       "      <td>Nintendo</td>\n",
       "      <td>11.27</td>\n",
       "      <td>8.89</td>\n",
       "      <td>10.22</td>\n",
       "      <td>1.00</td>\n",
       "      <td>31.37</td>\n",
       "    </tr>\n",
       "  </tbody>\n",
       "</table>\n",
       "</div>"
      ],
      "text/plain": [
       "   Rank                      Name Platform    Year         Genre Publisher  \\\n",
       "0     1                Wii Sports      Wii  2006.0        Sports  Nintendo   \n",
       "1     2         Super Mario Bros.      NES  1985.0      Platform  Nintendo   \n",
       "2     3            Mario Kart Wii      Wii  2008.0        Racing  Nintendo   \n",
       "3     4         Wii Sports Resort      Wii  2009.0        Sports  Nintendo   \n",
       "4     5  Pokemon Red/Pokemon Blue       GB  1996.0  Role-Playing  Nintendo   \n",
       "\n",
       "   NA_Sales  EU_Sales  JP_Sales  Other_Sales  Global_Sales  \n",
       "0     41.49     29.02      3.77         8.46         82.74  \n",
       "1     29.08      3.58      6.81         0.77         40.24  \n",
       "2     15.85     12.88      3.79         3.31         35.82  \n",
       "3     15.75     11.01      3.28         2.96         33.00  \n",
       "4     11.27      8.89     10.22         1.00         31.37  "
      ]
     },
     "execution_count": 32,
     "metadata": {},
     "output_type": "execute_result"
    }
   ],
   "source": [
    "df_perf_all = pd.read_csv('vgsales.csv', sep=\",\")\n",
    "df_perf_all.head()\n"
   ]
  },
  {
   "cell_type": "code",
   "execution_count": 33,
   "metadata": {
    "colab": {
     "base_uri": "https://localhost:8080/"
    },
    "id": "639a8f37",
    "outputId": "9d4740bf-7fc8-4891-87bb-c528a3d6f515"
   },
   "outputs": [
    {
     "data": {
      "text/plain": [
       "(16598, 11)"
      ]
     },
     "execution_count": 33,
     "metadata": {},
     "output_type": "execute_result"
    }
   ],
   "source": [
    "df_perf_all.shape"
   ]
  },
  {
   "cell_type": "markdown",
   "metadata": {
    "id": "e22c70bb"
   },
   "source": [
    "Убедимся, что в нашем рабочем датафрейме не будет записей с отсутсвующей видеокартой: "
   ]
  },
  {
   "cell_type": "code",
   "execution_count": 34,
   "metadata": {
    "id": "5bc12b22",
    "scrolled": true
   },
   "outputs": [],
   "source": [
    "df_perf_with_Platform = df_perf_all[df_perf_all['Platform'].notnull()]\n",
    "df_perf_with_Platform = df_perf_with_Platform[~df_perf_with_titulo['Platform'].str.isspace()]"
   ]
  },
  {
   "cell_type": "code",
   "execution_count": 35,
   "metadata": {
    "colab": {
     "base_uri": "https://localhost:8080/"
    },
    "id": "053188f4",
    "outputId": "c0369664-4ff5-4164-be8e-f469f3663774"
   },
   "outputs": [
    {
     "data": {
      "text/plain": [
       "array(['Sports', 'Platform', 'Racing', 'Sports', 'Role-Playing', 'Puzzle'],\n",
       "      dtype=object)"
      ]
     },
     "execution_count": 35,
     "metadata": {},
     "output_type": "execute_result"
    }
   ],
   "source": [
    "Genre = df_perf_with_Platform['Genre'].values\n",
    "Genre[0:6]"
   ]
  },
  {
   "cell_type": "code",
   "execution_count": 36,
   "metadata": {
    "colab": {
     "base_uri": "https://localhost:8080/"
    },
    "id": "a9840d60",
    "outputId": "32bc7b0c-5999-4572-baba-213044bc6fb8"
   },
   "outputs": [
    {
     "data": {
      "text/plain": [
       "array(['Nintendo', 'Nintendo', 'Nintendo', 'Nintendo', 'Nintendo'],\n",
       "      dtype=object)"
      ]
     },
     "execution_count": 36,
     "metadata": {},
     "output_type": "execute_result"
    }
   ],
   "source": [
    "Publisher= df_perf_with_Platform['Publisher'].values\n",
    "Publisher[0:5]"
   ]
  },
  {
   "cell_type": "code",
   "execution_count": 37,
   "metadata": {
    "colab": {
     "base_uri": "https://localhost:8080/"
    },
    "id": "cfbfe830",
    "outputId": "c9522c48-98f5-4110-fbc4-0a05f684b2c8"
   },
   "outputs": [
    {
     "data": {
      "text/plain": [
       "array(['Wii', 'NES', 'Wii'], dtype=object)"
      ]
     },
     "execution_count": 37,
     "metadata": {},
     "output_type": "execute_result"
    }
   ],
   "source": [
    "Platform = df_perf_with_Platform['Platform'].values\n",
    "Platform[0:3]"
   ]
  },
  {
   "cell_type": "markdown",
   "metadata": {
    "id": "fa8c84dc"
   },
   "source": [
    "Векторизуем видеокарту с помощью Tf-Idf Vectorizer"
   ]
  },
  {
   "cell_type": "code",
   "execution_count": 38,
   "metadata": {
    "colab": {
     "base_uri": "https://localhost:8080/"
    },
    "id": "93c4e00a",
    "outputId": "4fed6837-4d9e-44cc-c04d-43b95bbab180"
   },
   "outputs": [
    {
     "data": {
      "text/plain": [
       "<16598x31 sparse matrix of type '<class 'numpy.float64'>'\n",
       "\twith 16598 stored elements in Compressed Sparse Row format>"
      ]
     },
     "execution_count": 38,
     "metadata": {},
     "output_type": "execute_result"
    }
   ],
   "source": [
    "tfidfv = TfidfVectorizer()\n",
    "descr_matrix = tfidfv.fit_transform(Platform)\n",
    "descr_matrix"
   ]
  },
  {
   "cell_type": "markdown",
   "metadata": {
    "id": "731375b1"
   },
   "source": [
    "И с помощью CountVectorizer:"
   ]
  },
  {
   "cell_type": "code",
   "execution_count": 39,
   "metadata": {
    "colab": {
     "base_uri": "https://localhost:8080/"
    },
    "id": "b29ec11e",
    "outputId": "960ad63b-841f-48d5-a25c-7adeefe5aefc"
   },
   "outputs": [
    {
     "data": {
      "text/plain": [
       "<16598x31 sparse matrix of type '<class 'numpy.int64'>'\n",
       "\twith 16598 stored elements in Compressed Sparse Row format>"
      ]
     },
     "execution_count": 39,
     "metadata": {},
     "output_type": "execute_result"
    }
   ],
   "source": [
    "countv = CountVectorizer()\n",
    "Platform_matrix_co = countv.fit_transform(Platform)\n",
    "Platform_matrix_co"
   ]
  },
  {
   "cell_type": "code",
   "execution_count": 40,
   "metadata": {
    "id": "a847c044"
   },
   "outputs": [],
   "source": [
    "class SimpleKNNRecommender:\n",
    "    \n",
    "    def __init__(self, X_matrix, X_names, X_notes, X_descr):\n",
    "        \"\"\"\n",
    "        Входные параметры:\n",
    "        X_matrix - обучающая выборка (матрица объект-признак)\n",
    "        X_ids - массив идентификаторов объектов\n",
    "        X_title - массив названий объектов\n",
    "        X_overview - массив описаний объектов\n",
    "        \"\"\"\n",
    "        #Сохраняем параметры в переменных объекта\n",
    "        self._X_matrix = X_matrix\n",
    "        self.df = pd.DataFrame(\n",
    "            {'Genre': pd.Series(X_names, dtype='str'),\n",
    "            'Publisher': pd.Series(X_notes, dtype='str'),\n",
    "            'Platform': pd.Series(X_descr, dtype='str'),\n",
    "            'Dist': pd.Series([], dtype='float')})\n",
    "            \n",
    "            \n",
    "    def recommend_for_single_object(self, K: int, \\\n",
    "                X_matrix_object, cos_flag = True, manh_flag = False):\n",
    "        \"\"\"\n",
    "        Метод формирования рекомендаций для одного объекта.\n",
    "        Входные параметры:\n",
    "        K - количество рекомендуемых соседей \n",
    "        X_matrix_object - строка матрицы объект-признак, соответствующая объекту\n",
    "        cos_flag - флаг вычисления косинусного расстояния\n",
    "        manh_flag - флаг вычисления манхэттэнского расстояния\n",
    "        Возвращаемое значение: K найденных соседей\n",
    "        \"\"\"\n",
    "        \n",
    "        scale = 1000000\n",
    "        # Вычисляем косинусную близость\n",
    "        if cos_flag:\n",
    "            dist = cosine_similarity(self._X_matrix, X_matrix_object)\n",
    "            self.df['Dist'] = dist * scale\n",
    "            res = self.df.sort_values(by='Dist', ascending=False)\n",
    "            # Не учитываем рекомендации с единичным расстоянием,\n",
    "            # так как это искомый объект\n",
    "            res = res[res['Dist'] < scale]\n",
    "        \n",
    "        else:\n",
    "            if manh_flag:\n",
    "                dist = manhattan_distances(self._X_matrix, X_matrix_object)\n",
    "            else:\n",
    "                dist = euclidean_distances(self._X_matrix, X_matrix_object)\n",
    "            self.df['Dist'] = dist * scale\n",
    "            res = self.df.sort_values(by='Dist', ascending=True)\n",
    "            # Не учитываем рекомендации с единичным расстоянием,\n",
    "            # так как это искомый объект\n",
    "            res = res[res['Dist'] > 0.0]            \n",
    "        \n",
    "        # Оставляем К первых рекомендаций\n",
    "        res = res.head(K)\n",
    "        return res"
   ]
  },
  {
   "cell_type": "markdown",
   "metadata": {
    "id": "cbb70a35"
   },
   "source": [
    "Выберем тестовый образец, на основе которого мы будем давать рекомендации:"
   ]
  },
  {
   "cell_type": "code",
   "execution_count": 41,
   "metadata": {
    "colab": {
     "base_uri": "https://localhost:8080/",
     "height": 35
    },
    "id": "3ea901bc",
    "outputId": "f319a691-a32a-47cd-82e2-eadb4a62d203"
   },
   "outputs": [
    {
     "data": {
      "text/plain": [
       "'Misc'"
      ]
     },
     "execution_count": 41,
     "metadata": {},
     "output_type": "execute_result"
    }
   ],
   "source": [
    "test_name = 7\n",
    "Genre[test_name]"
   ]
  },
  {
   "cell_type": "markdown",
   "metadata": {
    "id": "674347a9"
   },
   "source": [
    "Зададим его матрицу: "
   ]
  },
  {
   "cell_type": "code",
   "execution_count": 42,
   "metadata": {
    "colab": {
     "base_uri": "https://localhost:8080/"
    },
    "id": "c1688ec3",
    "outputId": "79ef7dc9-2ae7-445b-d708-8a4d64a7cdd8"
   },
   "outputs": [
    {
     "data": {
      "text/plain": [
       "<1x31 sparse matrix of type '<class 'numpy.float64'>'\n",
       "\twith 1 stored elements in Compressed Sparse Row format>"
      ]
     },
     "execution_count": 42,
     "metadata": {},
     "output_type": "execute_result"
    }
   ],
   "source": [
    "test_matrix = descr_matrix[test_name]\n",
    "test_matrix"
   ]
  },
  {
   "cell_type": "code",
   "execution_count": 43,
   "metadata": {
    "id": "1451af04"
   },
   "outputs": [],
   "source": [
    "skr1 = SimpleKNNRecommender(descr_matrix, Genre, Publisher, Platform)"
   ]
  },
  {
   "cell_type": "code",
   "execution_count": 44,
   "metadata": {
    "colab": {
     "base_uri": "https://localhost:8080/"
    },
    "id": "4c847d06",
    "outputId": "99aa6cb3-5e92-4ef5-84bb-b764296d062d"
   },
   "outputs": [
    {
     "data": {
      "text/plain": [
       "Rank                   8\n",
       "Name            Wii Play\n",
       "Platform             Wii\n",
       "Year                2006\n",
       "Genre               Misc\n",
       "Publisher       Nintendo\n",
       "NA_Sales           14.03\n",
       "EU_Sales             9.2\n",
       "JP_Sales            2.93\n",
       "Other_Sales         2.85\n",
       "Global_Sales       29.02\n",
       "Name: 7, dtype: object"
      ]
     },
     "execution_count": 44,
     "metadata": {},
     "output_type": "execute_result"
    }
   ],
   "source": [
    "test = df_perf_with_Platform.iloc[test_name]\n",
    "test"
   ]
  },
  {
   "cell_type": "markdown",
   "metadata": {
    "id": "88bc21d5"
   },
   "source": [
    "Делаем рекомендацию на основании видеокарты векторизованного Tf-Idf и косинусного  расстояния:"
   ]
  },
  {
   "cell_type": "code",
   "execution_count": 45,
   "metadata": {
    "colab": {
     "base_uri": "https://localhost:8080/",
     "height": 520
    },
    "id": "deed3ac7",
    "outputId": "9c4c22b5-2060-4046-fbf8-ef79eaee2680"
   },
   "outputs": [
    {
     "data": {
      "text/html": [
       "<div>\n",
       "<style scoped>\n",
       "    .dataframe tbody tr th:only-of-type {\n",
       "        vertical-align: middle;\n",
       "    }\n",
       "\n",
       "    .dataframe tbody tr th {\n",
       "        vertical-align: top;\n",
       "    }\n",
       "\n",
       "    .dataframe thead th {\n",
       "        text-align: right;\n",
       "    }\n",
       "</style>\n",
       "<table border=\"1\" class=\"dataframe\">\n",
       "  <thead>\n",
       "    <tr style=\"text-align: right;\">\n",
       "      <th></th>\n",
       "      <th>Genre</th>\n",
       "      <th>Publisher</th>\n",
       "      <th>Platform</th>\n",
       "      <th>Dist</th>\n",
       "    </tr>\n",
       "  </thead>\n",
       "  <tbody>\n",
       "    <tr>\n",
       "      <th>10954</th>\n",
       "      <td>Simulation</td>\n",
       "      <td>Namco Bandai Games</td>\n",
       "      <td>PS4</td>\n",
       "      <td>0.0</td>\n",
       "    </tr>\n",
       "    <tr>\n",
       "      <th>10848</th>\n",
       "      <td>Action</td>\n",
       "      <td>Hudson Soft</td>\n",
       "      <td>DS</td>\n",
       "      <td>0.0</td>\n",
       "    </tr>\n",
       "    <tr>\n",
       "      <th>10942</th>\n",
       "      <td>Platform</td>\n",
       "      <td>Ubisoft</td>\n",
       "      <td>PS</td>\n",
       "      <td>0.0</td>\n",
       "    </tr>\n",
       "    <tr>\n",
       "      <th>10950</th>\n",
       "      <td>Strategy</td>\n",
       "      <td>Electronic Arts</td>\n",
       "      <td>PC</td>\n",
       "      <td>0.0</td>\n",
       "    </tr>\n",
       "    <tr>\n",
       "      <th>10964</th>\n",
       "      <td>Misc</td>\n",
       "      <td>Take-Two Interactive</td>\n",
       "      <td>DS</td>\n",
       "      <td>0.0</td>\n",
       "    </tr>\n",
       "    <tr>\n",
       "      <th>10949</th>\n",
       "      <td>Sports</td>\n",
       "      <td>Take-Two Interactive</td>\n",
       "      <td>PS3</td>\n",
       "      <td>0.0</td>\n",
       "    </tr>\n",
       "    <tr>\n",
       "      <th>10963</th>\n",
       "      <td>Puzzle</td>\n",
       "      <td>Vivendi Games</td>\n",
       "      <td>GBA</td>\n",
       "      <td>0.0</td>\n",
       "    </tr>\n",
       "    <tr>\n",
       "      <th>10962</th>\n",
       "      <td>Role-Playing</td>\n",
       "      <td>Sony Computer Entertainment</td>\n",
       "      <td>PS2</td>\n",
       "      <td>0.0</td>\n",
       "    </tr>\n",
       "    <tr>\n",
       "      <th>10943</th>\n",
       "      <td>Sports</td>\n",
       "      <td>Electronic Arts</td>\n",
       "      <td>PS3</td>\n",
       "      <td>0.0</td>\n",
       "    </tr>\n",
       "    <tr>\n",
       "      <th>10961</th>\n",
       "      <td>Action</td>\n",
       "      <td>Activision</td>\n",
       "      <td>X360</td>\n",
       "      <td>0.0</td>\n",
       "    </tr>\n",
       "    <tr>\n",
       "      <th>10849</th>\n",
       "      <td>Action</td>\n",
       "      <td>Vivendi Games</td>\n",
       "      <td>XB</td>\n",
       "      <td>0.0</td>\n",
       "    </tr>\n",
       "    <tr>\n",
       "      <th>10948</th>\n",
       "      <td>Action</td>\n",
       "      <td>Electronic Arts</td>\n",
       "      <td>PSP</td>\n",
       "      <td>0.0</td>\n",
       "    </tr>\n",
       "    <tr>\n",
       "      <th>10960</th>\n",
       "      <td>Strategy</td>\n",
       "      <td>THQ</td>\n",
       "      <td>DS</td>\n",
       "      <td>0.0</td>\n",
       "    </tr>\n",
       "    <tr>\n",
       "      <th>10944</th>\n",
       "      <td>Strategy</td>\n",
       "      <td>Ubisoft</td>\n",
       "      <td>DS</td>\n",
       "      <td>0.0</td>\n",
       "    </tr>\n",
       "    <tr>\n",
       "      <th>10959</th>\n",
       "      <td>Strategy</td>\n",
       "      <td>Time Warner Interactive</td>\n",
       "      <td>PS</td>\n",
       "      <td>0.0</td>\n",
       "    </tr>\n",
       "  </tbody>\n",
       "</table>\n",
       "</div>"
      ],
      "text/plain": [
       "              Genre                    Publisher Platform  Dist\n",
       "10954    Simulation           Namco Bandai Games      PS4   0.0\n",
       "10848        Action                  Hudson Soft       DS   0.0\n",
       "10942      Platform                      Ubisoft       PS   0.0\n",
       "10950      Strategy              Electronic Arts       PC   0.0\n",
       "10964          Misc         Take-Two Interactive       DS   0.0\n",
       "10949        Sports         Take-Two Interactive      PS3   0.0\n",
       "10963        Puzzle                Vivendi Games      GBA   0.0\n",
       "10962  Role-Playing  Sony Computer Entertainment      PS2   0.0\n",
       "10943        Sports              Electronic Arts      PS3   0.0\n",
       "10961        Action                   Activision     X360   0.0\n",
       "10849        Action                Vivendi Games       XB   0.0\n",
       "10948        Action              Electronic Arts      PSP   0.0\n",
       "10960      Strategy                          THQ       DS   0.0\n",
       "10944      Strategy                      Ubisoft       DS   0.0\n",
       "10959      Strategy      Time Warner Interactive       PS   0.0"
      ]
     },
     "execution_count": 45,
     "metadata": {},
     "output_type": "execute_result"
    }
   ],
   "source": [
    "rec1 = skr1.recommend_for_single_object(15, test_matrix)\n",
    "rec1"
   ]
  },
  {
   "cell_type": "code",
   "execution_count": 46,
   "metadata": {
    "colab": {
     "base_uri": "https://localhost:8080/"
    },
    "id": "dbfbdcbc",
    "outputId": "cc0bd464-97c8-4a9e-adee-08553cad0363"
   },
   "outputs": [
    {
     "data": {
      "text/plain": [
       "<1x31 sparse matrix of type '<class 'numpy.int64'>'\n",
       "\twith 1 stored elements in Compressed Sparse Row format>"
      ]
     },
     "execution_count": 46,
     "metadata": {},
     "output_type": "execute_result"
    }
   ],
   "source": [
    "test_matrix_co = Platform_matrix_co[test_name]\n",
    "test_matrix_co"
   ]
  },
  {
   "cell_type": "code",
   "execution_count": 49,
   "metadata": {
    "id": "e15234a2"
   },
   "outputs": [],
   "source": [
    "skr2 = SimpleKNNRecommender(Platform_matrix_co, Genre, Publisher, Platform)"
   ]
  },
  {
   "cell_type": "markdown",
   "metadata": {
    "id": "1211d046"
   },
   "source": [
    "Делаем рекомендации по видеокартам векторизованным CountVectorizer и на основе Евклидова расстояния:"
   ]
  },
  {
   "cell_type": "code",
   "execution_count": 50,
   "metadata": {
    "colab": {
     "base_uri": "https://localhost:8080/",
     "height": 520
    },
    "id": "8ac989cf",
    "outputId": "7863b659-7c8a-4d75-d475-adddfe879f2b"
   },
   "outputs": [
    {
     "data": {
      "text/html": [
       "<div>\n",
       "<style scoped>\n",
       "    .dataframe tbody tr th:only-of-type {\n",
       "        vertical-align: middle;\n",
       "    }\n",
       "\n",
       "    .dataframe tbody tr th {\n",
       "        vertical-align: top;\n",
       "    }\n",
       "\n",
       "    .dataframe thead th {\n",
       "        text-align: right;\n",
       "    }\n",
       "</style>\n",
       "<table border=\"1\" class=\"dataframe\">\n",
       "  <thead>\n",
       "    <tr style=\"text-align: right;\">\n",
       "      <th></th>\n",
       "      <th>Genre</th>\n",
       "      <th>Publisher</th>\n",
       "      <th>Platform</th>\n",
       "      <th>Dist</th>\n",
       "    </tr>\n",
       "  </thead>\n",
       "  <tbody>\n",
       "    <tr>\n",
       "      <th>10928</th>\n",
       "      <td>Sports</td>\n",
       "      <td>Atari</td>\n",
       "      <td>X360</td>\n",
       "      <td>1.414214e+06</td>\n",
       "    </tr>\n",
       "    <tr>\n",
       "      <th>16203</th>\n",
       "      <td>Adventure</td>\n",
       "      <td>Nippon Ichi Software</td>\n",
       "      <td>PSV</td>\n",
       "      <td>1.414214e+06</td>\n",
       "    </tr>\n",
       "    <tr>\n",
       "      <th>10934</th>\n",
       "      <td>Adventure</td>\n",
       "      <td>Idea Factory</td>\n",
       "      <td>PSP</td>\n",
       "      <td>1.414214e+06</td>\n",
       "    </tr>\n",
       "    <tr>\n",
       "      <th>10933</th>\n",
       "      <td>Strategy</td>\n",
       "      <td>LucasArts</td>\n",
       "      <td>PC</td>\n",
       "      <td>1.414214e+06</td>\n",
       "    </tr>\n",
       "    <tr>\n",
       "      <th>10930</th>\n",
       "      <td>Fighting</td>\n",
       "      <td>Konami Digital Entertainment</td>\n",
       "      <td>PS2</td>\n",
       "      <td>1.414214e+06</td>\n",
       "    </tr>\n",
       "    <tr>\n",
       "      <th>16202</th>\n",
       "      <td>Action</td>\n",
       "      <td>Idea Factory</td>\n",
       "      <td>DS</td>\n",
       "      <td>1.414214e+06</td>\n",
       "    </tr>\n",
       "    <tr>\n",
       "      <th>10929</th>\n",
       "      <td>Platform</td>\n",
       "      <td>Atari</td>\n",
       "      <td>GBA</td>\n",
       "      <td>1.414214e+06</td>\n",
       "    </tr>\n",
       "    <tr>\n",
       "      <th>10932</th>\n",
       "      <td>Sports</td>\n",
       "      <td>THQ</td>\n",
       "      <td>PS2</td>\n",
       "      <td>1.414214e+06</td>\n",
       "    </tr>\n",
       "    <tr>\n",
       "      <th>11131</th>\n",
       "      <td>Shooter</td>\n",
       "      <td>Atari</td>\n",
       "      <td>GC</td>\n",
       "      <td>1.414214e+06</td>\n",
       "    </tr>\n",
       "    <tr>\n",
       "      <th>10925</th>\n",
       "      <td>Role-Playing</td>\n",
       "      <td>Atlus</td>\n",
       "      <td>PS</td>\n",
       "      <td>1.414214e+06</td>\n",
       "    </tr>\n",
       "    <tr>\n",
       "      <th>10905</th>\n",
       "      <td>Simulation</td>\n",
       "      <td>Electronic Arts</td>\n",
       "      <td>PS</td>\n",
       "      <td>1.414214e+06</td>\n",
       "    </tr>\n",
       "    <tr>\n",
       "      <th>10906</th>\n",
       "      <td>Puzzle</td>\n",
       "      <td>Sony Computer Entertainment</td>\n",
       "      <td>PSP</td>\n",
       "      <td>1.414214e+06</td>\n",
       "    </tr>\n",
       "    <tr>\n",
       "      <th>10907</th>\n",
       "      <td>Sports</td>\n",
       "      <td>Atari</td>\n",
       "      <td>PS2</td>\n",
       "      <td>1.414214e+06</td>\n",
       "    </tr>\n",
       "    <tr>\n",
       "      <th>16205</th>\n",
       "      <td>Shooter</td>\n",
       "      <td>Moss</td>\n",
       "      <td>X360</td>\n",
       "      <td>1.414214e+06</td>\n",
       "    </tr>\n",
       "    <tr>\n",
       "      <th>16204</th>\n",
       "      <td>Adventure</td>\n",
       "      <td>Kadokawa Games</td>\n",
       "      <td>PSV</td>\n",
       "      <td>1.414214e+06</td>\n",
       "    </tr>\n",
       "  </tbody>\n",
       "</table>\n",
       "</div>"
      ],
      "text/plain": [
       "              Genre                     Publisher Platform          Dist\n",
       "10928        Sports                         Atari     X360  1.414214e+06\n",
       "16203     Adventure          Nippon Ichi Software      PSV  1.414214e+06\n",
       "10934     Adventure                  Idea Factory      PSP  1.414214e+06\n",
       "10933      Strategy                     LucasArts       PC  1.414214e+06\n",
       "10930      Fighting  Konami Digital Entertainment      PS2  1.414214e+06\n",
       "16202        Action                  Idea Factory       DS  1.414214e+06\n",
       "10929      Platform                         Atari      GBA  1.414214e+06\n",
       "10932        Sports                           THQ      PS2  1.414214e+06\n",
       "11131       Shooter                         Atari       GC  1.414214e+06\n",
       "10925  Role-Playing                         Atlus       PS  1.414214e+06\n",
       "10905    Simulation               Electronic Arts       PS  1.414214e+06\n",
       "10906        Puzzle   Sony Computer Entertainment      PSP  1.414214e+06\n",
       "10907        Sports                         Atari      PS2  1.414214e+06\n",
       "16205       Shooter                          Moss     X360  1.414214e+06\n",
       "16204     Adventure                Kadokawa Games      PSV  1.414214e+06"
      ]
     },
     "execution_count": 50,
     "metadata": {},
     "output_type": "execute_result"
    }
   ],
   "source": [
    "rec2 = skr2.recommend_for_single_object(15, Platform_matrix_co, cos_flag = False)\n",
    "rec2"
   ]
  },
  {
   "cell_type": "code",
   "execution_count": null,
   "metadata": {
    "id": "19b0dbb5"
   },
   "outputs": [],
   "source": []
  },
  {
   "cell_type": "code",
   "execution_count": null,
   "metadata": {},
   "outputs": [],
   "source": []
  }
 ],
 "metadata": {
  "colab": {
   "include_colab_link": true,
   "name": "Lab4.ipynb",
   "provenance": []
  },
  "kernelspec": {
   "display_name": "Python 3",
   "language": "python",
   "name": "python3"
  },
  "language_info": {
   "codemirror_mode": {
    "name": "ipython",
    "version": 3
   },
   "file_extension": ".py",
   "mimetype": "text/x-python",
   "name": "python",
   "nbconvert_exporter": "python",
   "pygments_lexer": "ipython3",
   "version": "3.8.5"
  }
 },
 "nbformat": 4,
 "nbformat_minor": 5
}
