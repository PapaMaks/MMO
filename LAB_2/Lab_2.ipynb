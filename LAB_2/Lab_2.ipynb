{
  "cells": [
    {
      "cell_type": "markdown",
      "metadata": {
        "id": "view-in-github"
      },
      "source": [
        "<a href=\"https://colab.research.google.com/github/nikbizkit/MMO/blob/main/LR2.ipynb\" target=\"_parent\"><img src=\"https://colab.research.google.com/assets/colab-badge.svg\" alt=\"Open In Colab\"/></a>"
      ],
      "id": "view-in-github"
    },
    {
      "cell_type": "markdown",
      "metadata": {
        "id": "637f98c0"
      },
      "source": [
        "# Лабораторная работа\n",
        "## Обработка признаков (часть 1).\n",
        "### Выполнил: Попов М.А. ИУ5-24М\n",
        "### Задание:\n",
        "#### Выбрать набор данных (датасет), содержащий категориальные и числовые признаки и пропуски в данных. Для выполнения следующих пунктов можно использовать несколько различных наборов данных (один для обработки пропусков, другой для категориальных признаков и т.д.) Просьба не использовать датасет, на котором данная задача решалась в лекции.\n",
        "#### Для выбранного датасета (датасетов) на основе материалов лекций решить следующие задачи:\n",
        "#### 1 Устранение пропусков в данных;\n",
        "#### 2 Кодирование категориальных признаков;\n",
        "#### 3 Нормализацию числовых признаков."
      ],
      "id": "637f98c0"
    },
    {
      "cell_type": "code",
      "execution_count": 14,
      "metadata": {
        "id": "ea13bc43"
      },
      "outputs": [],
      "source": [
        "import numpy as np\n",
        "import pandas as pd\n",
        "import seaborn as sns\n",
        "import matplotlib.pyplot as plt\n",
        "from statsmodels.graphics.gofplots import ProbPlot\n",
        "from sklearn.impute import SimpleImputer\n",
        "from sklearn.impute import MissingIndicator\n",
        "from sklearn.impute import KNNImputer\n",
        "from sklearn.preprocessing import StandardScaler\n",
        "from sklearn.preprocessing import LabelEncoder\n",
        "from sklearn.preprocessing import OneHotEncoder\n",
        "from sklearn.pipeline import Pipeline\n",
        "from sklearn.model_selection import GridSearchCV\n",
        "from sklearn.experimental import enable_iterative_imputer\n",
        "from sklearn.impute import IterativeImputer\n",
        "from IPython.display import Image\n",
        "from matplotlib.pyplot import *\n",
        "import matplotlib.pyplot as plt\n",
        "import scipy.stats as stats\n",
        "%matplotlib inline \n",
        "sns.set(style=\"ticks\")"
      ],
      "id": "ea13bc43"
    },
    {
      "cell_type": "code",
      "execution_count": 2,
      "metadata": {
        "colab": {
          "base_uri": "https://localhost:8080/",
          "height": 206
        },
        "id": "ee1ad40e",
        "outputId": "7456f32f-ac05-4251-e4a7-2cffd9ca1972"
      },
      "outputs": [
        {
          "output_type": "execute_result",
          "data": {
            "text/plain": [
              "                             cpuName    price  cpuMark  cpuValue  threadMark  \\\n",
              "0  AMD Ryzen Threadripper PRO 5995WX      NaN   108822       NaN        3330   \n",
              "1                      AMD EPYC 7763  7299.99    88338     12.10        2635   \n",
              "2                      AMD EPYC 7J13      NaN    86006       NaN        2387   \n",
              "3                      AMD EPYC 7713  7060.00    85861     12.16        2727   \n",
              "4  AMD Ryzen Threadripper PRO 3995WX  6807.98    83971     12.33        2626   \n",
              "\n",
              "   threadValue    TDP powerPerf  cores  testDate   socket category  \n",
              "0          NaN  280.0    388.65     64      2022    sWRX8  Desktop  \n",
              "1         0.36  280.0    315.49     64      2021      SP3   Server  \n",
              "2          NaN    NaN       NaN     64      2021  unknown   Server  \n",
              "3         0.39  225.0     381.6     64      2021      SP3   Server  \n",
              "4         0.39  280.0     299.9     64      2020    sWRX8  Desktop  "
            ],
            "text/html": [
              "\n",
              "  <div id=\"df-6dc91855-3c73-4c4c-9019-c17bac9857a5\">\n",
              "    <div class=\"colab-df-container\">\n",
              "      <div>\n",
              "<style scoped>\n",
              "    .dataframe tbody tr th:only-of-type {\n",
              "        vertical-align: middle;\n",
              "    }\n",
              "\n",
              "    .dataframe tbody tr th {\n",
              "        vertical-align: top;\n",
              "    }\n",
              "\n",
              "    .dataframe thead th {\n",
              "        text-align: right;\n",
              "    }\n",
              "</style>\n",
              "<table border=\"1\" class=\"dataframe\">\n",
              "  <thead>\n",
              "    <tr style=\"text-align: right;\">\n",
              "      <th></th>\n",
              "      <th>cpuName</th>\n",
              "      <th>price</th>\n",
              "      <th>cpuMark</th>\n",
              "      <th>cpuValue</th>\n",
              "      <th>threadMark</th>\n",
              "      <th>threadValue</th>\n",
              "      <th>TDP</th>\n",
              "      <th>powerPerf</th>\n",
              "      <th>cores</th>\n",
              "      <th>testDate</th>\n",
              "      <th>socket</th>\n",
              "      <th>category</th>\n",
              "    </tr>\n",
              "  </thead>\n",
              "  <tbody>\n",
              "    <tr>\n",
              "      <th>0</th>\n",
              "      <td>AMD Ryzen Threadripper PRO 5995WX</td>\n",
              "      <td>NaN</td>\n",
              "      <td>108822</td>\n",
              "      <td>NaN</td>\n",
              "      <td>3330</td>\n",
              "      <td>NaN</td>\n",
              "      <td>280.0</td>\n",
              "      <td>388.65</td>\n",
              "      <td>64</td>\n",
              "      <td>2022</td>\n",
              "      <td>sWRX8</td>\n",
              "      <td>Desktop</td>\n",
              "    </tr>\n",
              "    <tr>\n",
              "      <th>1</th>\n",
              "      <td>AMD EPYC 7763</td>\n",
              "      <td>7299.99</td>\n",
              "      <td>88338</td>\n",
              "      <td>12.10</td>\n",
              "      <td>2635</td>\n",
              "      <td>0.36</td>\n",
              "      <td>280.0</td>\n",
              "      <td>315.49</td>\n",
              "      <td>64</td>\n",
              "      <td>2021</td>\n",
              "      <td>SP3</td>\n",
              "      <td>Server</td>\n",
              "    </tr>\n",
              "    <tr>\n",
              "      <th>2</th>\n",
              "      <td>AMD EPYC 7J13</td>\n",
              "      <td>NaN</td>\n",
              "      <td>86006</td>\n",
              "      <td>NaN</td>\n",
              "      <td>2387</td>\n",
              "      <td>NaN</td>\n",
              "      <td>NaN</td>\n",
              "      <td>NaN</td>\n",
              "      <td>64</td>\n",
              "      <td>2021</td>\n",
              "      <td>unknown</td>\n",
              "      <td>Server</td>\n",
              "    </tr>\n",
              "    <tr>\n",
              "      <th>3</th>\n",
              "      <td>AMD EPYC 7713</td>\n",
              "      <td>7060.00</td>\n",
              "      <td>85861</td>\n",
              "      <td>12.16</td>\n",
              "      <td>2727</td>\n",
              "      <td>0.39</td>\n",
              "      <td>225.0</td>\n",
              "      <td>381.6</td>\n",
              "      <td>64</td>\n",
              "      <td>2021</td>\n",
              "      <td>SP3</td>\n",
              "      <td>Server</td>\n",
              "    </tr>\n",
              "    <tr>\n",
              "      <th>4</th>\n",
              "      <td>AMD Ryzen Threadripper PRO 3995WX</td>\n",
              "      <td>6807.98</td>\n",
              "      <td>83971</td>\n",
              "      <td>12.33</td>\n",
              "      <td>2626</td>\n",
              "      <td>0.39</td>\n",
              "      <td>280.0</td>\n",
              "      <td>299.9</td>\n",
              "      <td>64</td>\n",
              "      <td>2020</td>\n",
              "      <td>sWRX8</td>\n",
              "      <td>Desktop</td>\n",
              "    </tr>\n",
              "  </tbody>\n",
              "</table>\n",
              "</div>\n",
              "      <button class=\"colab-df-convert\" onclick=\"convertToInteractive('df-6dc91855-3c73-4c4c-9019-c17bac9857a5')\"\n",
              "              title=\"Convert this dataframe to an interactive table.\"\n",
              "              style=\"display:none;\">\n",
              "        \n",
              "  <svg xmlns=\"http://www.w3.org/2000/svg\" height=\"24px\"viewBox=\"0 0 24 24\"\n",
              "       width=\"24px\">\n",
              "    <path d=\"M0 0h24v24H0V0z\" fill=\"none\"/>\n",
              "    <path d=\"M18.56 5.44l.94 2.06.94-2.06 2.06-.94-2.06-.94-.94-2.06-.94 2.06-2.06.94zm-11 1L8.5 8.5l.94-2.06 2.06-.94-2.06-.94L8.5 2.5l-.94 2.06-2.06.94zm10 10l.94 2.06.94-2.06 2.06-.94-2.06-.94-.94-2.06-.94 2.06-2.06.94z\"/><path d=\"M17.41 7.96l-1.37-1.37c-.4-.4-.92-.59-1.43-.59-.52 0-1.04.2-1.43.59L10.3 9.45l-7.72 7.72c-.78.78-.78 2.05 0 2.83L4 21.41c.39.39.9.59 1.41.59.51 0 1.02-.2 1.41-.59l7.78-7.78 2.81-2.81c.8-.78.8-2.07 0-2.86zM5.41 20L4 18.59l7.72-7.72 1.47 1.35L5.41 20z\"/>\n",
              "  </svg>\n",
              "      </button>\n",
              "      \n",
              "  <style>\n",
              "    .colab-df-container {\n",
              "      display:flex;\n",
              "      flex-wrap:wrap;\n",
              "      gap: 12px;\n",
              "    }\n",
              "\n",
              "    .colab-df-convert {\n",
              "      background-color: #E8F0FE;\n",
              "      border: none;\n",
              "      border-radius: 50%;\n",
              "      cursor: pointer;\n",
              "      display: none;\n",
              "      fill: #1967D2;\n",
              "      height: 32px;\n",
              "      padding: 0 0 0 0;\n",
              "      width: 32px;\n",
              "    }\n",
              "\n",
              "    .colab-df-convert:hover {\n",
              "      background-color: #E2EBFA;\n",
              "      box-shadow: 0px 1px 2px rgba(60, 64, 67, 0.3), 0px 1px 3px 1px rgba(60, 64, 67, 0.15);\n",
              "      fill: #174EA6;\n",
              "    }\n",
              "\n",
              "    [theme=dark] .colab-df-convert {\n",
              "      background-color: #3B4455;\n",
              "      fill: #D2E3FC;\n",
              "    }\n",
              "\n",
              "    [theme=dark] .colab-df-convert:hover {\n",
              "      background-color: #434B5C;\n",
              "      box-shadow: 0px 1px 3px 1px rgba(0, 0, 0, 0.15);\n",
              "      filter: drop-shadow(0px 1px 2px rgba(0, 0, 0, 0.3));\n",
              "      fill: #FFFFFF;\n",
              "    }\n",
              "  </style>\n",
              "\n",
              "      <script>\n",
              "        const buttonEl =\n",
              "          document.querySelector('#df-6dc91855-3c73-4c4c-9019-c17bac9857a5 button.colab-df-convert');\n",
              "        buttonEl.style.display =\n",
              "          google.colab.kernel.accessAllowed ? 'block' : 'none';\n",
              "\n",
              "        async function convertToInteractive(key) {\n",
              "          const element = document.querySelector('#df-6dc91855-3c73-4c4c-9019-c17bac9857a5');\n",
              "          const dataTable =\n",
              "            await google.colab.kernel.invokeFunction('convertToInteractive',\n",
              "                                                     [key], {});\n",
              "          if (!dataTable) return;\n",
              "\n",
              "          const docLinkHtml = 'Like what you see? Visit the ' +\n",
              "            '<a target=\"_blank\" href=https://colab.research.google.com/notebooks/data_table.ipynb>data table notebook</a>'\n",
              "            + ' to learn more about interactive tables.';\n",
              "          element.innerHTML = '';\n",
              "          dataTable['output_type'] = 'display_data';\n",
              "          await google.colab.output.renderOutput(dataTable, element);\n",
              "          const docLink = document.createElement('div');\n",
              "          docLink.innerHTML = docLinkHtml;\n",
              "          element.appendChild(docLink);\n",
              "        }\n",
              "      </script>\n",
              "    </div>\n",
              "  </div>\n",
              "  "
            ]
          },
          "metadata": {},
          "execution_count": 2
        }
      ],
      "source": [
        "data = pd.read_csv('cpu.csv')\n",
        "data.head()"
      ],
      "id": "ee1ad40e"
    },
    {
      "cell_type": "code",
      "execution_count": 3,
      "metadata": {
        "colab": {
          "base_uri": "https://localhost:8080/"
        },
        "id": "0d3dd635",
        "outputId": "092e3270-1c9d-445a-9c3b-9cb47cf8d267"
      },
      "outputs": [
        {
          "output_type": "execute_result",
          "data": {
            "text/plain": [
              "cpuName         object\n",
              "price          float64\n",
              "cpuMark          int64\n",
              "cpuValue       float64\n",
              "threadMark       int64\n",
              "threadValue    float64\n",
              "TDP            float64\n",
              "powerPerf       object\n",
              "cores            int64\n",
              "testDate         int64\n",
              "socket          object\n",
              "category        object\n",
              "dtype: object"
            ]
          },
          "metadata": {},
          "execution_count": 3
        }
      ],
      "source": [
        "data.dtypes"
      ],
      "id": "0d3dd635"
    },
    {
      "cell_type": "markdown",
      "source": [
        "# Устранение пропусков в данных"
      ],
      "metadata": {
        "id": "wODJjOUxfuiu"
      },
      "id": "wODJjOUxfuiu"
    },
    {
      "cell_type": "code",
      "execution_count": 4,
      "metadata": {
        "colab": {
          "base_uri": "https://localhost:8080/"
        },
        "id": "ae577618",
        "outputId": "d4ce3214-4222-4265-d802-d1e6fbf5c4b1"
      },
      "outputs": [
        {
          "output_type": "execute_result",
          "data": {
            "text/plain": [
              "cpuName           0\n",
              "price          1858\n",
              "cpuMark           0\n",
              "cpuValue       1858\n",
              "threadMark        0\n",
              "threadValue    1858\n",
              "TDP             685\n",
              "powerPerf       685\n",
              "cores             0\n",
              "testDate          0\n",
              "socket            0\n",
              "category          0\n",
              "dtype: int64"
            ]
          },
          "metadata": {},
          "execution_count": 4
        }
      ],
      "source": [
        "data.isnull().sum()"
      ],
      "id": "ae577618"
    },
    {
      "cell_type": "code",
      "execution_count": 5,
      "metadata": {
        "colab": {
          "base_uri": "https://localhost:8080/"
        },
        "id": "832e76cd",
        "outputId": "846a7c44-f9e7-44d7-a584-906e52c88d89"
      },
      "outputs": [
        {
          "output_type": "execute_result",
          "data": {
            "text/plain": [
              "cpuName        0\n",
              "price          0\n",
              "cpuMark        0\n",
              "cpuValue       0\n",
              "threadMark     0\n",
              "threadValue    0\n",
              "TDP            0\n",
              "powerPerf      0\n",
              "cores          0\n",
              "testDate       0\n",
              "socket         0\n",
              "category       0\n",
              "dtype: int64"
            ]
          },
          "metadata": {},
          "execution_count": 5
        }
      ],
      "source": [
        "data = data.dropna(axis=0, how='any')\n",
        "data.isnull().sum()"
      ],
      "id": "832e76cd"
    },
    {
      "cell_type": "markdown",
      "source": [
        "#Кодирование категориальных признаков"
      ],
      "metadata": {
        "id": "OLs8Wv5ffnVG"
      },
      "id": "OLs8Wv5ffnVG"
    },
    {
      "cell_type": "code",
      "execution_count": 6,
      "metadata": {
        "id": "91f6999a"
      },
      "outputs": [],
      "source": [
        "date = LabelEncoder()\n",
        "date_transform = date.fit_transform(data['cpuName'])"
      ],
      "id": "91f6999a"
    },
    {
      "cell_type": "code",
      "execution_count": 7,
      "metadata": {
        "colab": {
          "base_uri": "https://localhost:8080/"
        },
        "id": "pShdeWMzsrQX",
        "outputId": "e143fe7f-2ae6-480c-95ce-bd2251a57533"
      },
      "outputs": [
        {
          "output_type": "execute_result",
          "data": {
            "text/plain": [
              "array(['AMD EPYC 7763', 'AMD EPYC 7713',\n",
              "       'AMD Ryzen Threadripper PRO 3995WX', ...,\n",
              "       'Intel Atom D410 @ 1.66GHz', 'AMD Athlon XP 1700+',\n",
              "       'Intel Atom E3815 @ 1.46GHz'], dtype=object)"
            ]
          },
          "metadata": {},
          "execution_count": 7
        }
      ],
      "source": [
        "data['cpuName'].unique()"
      ],
      "id": "pShdeWMzsrQX"
    },
    {
      "cell_type": "code",
      "execution_count": 8,
      "metadata": {
        "colab": {
          "base_uri": "https://localhost:8080/"
        },
        "id": "VUvax1_Wsukj",
        "outputId": "a6093b98-5b47-4afa-ad62-127a6de4a673"
      },
      "outputs": [
        {
          "output_type": "execute_result",
          "data": {
            "text/plain": [
              "array([   0,    1,    2, ..., 1935, 1936, 1937])"
            ]
          },
          "metadata": {},
          "execution_count": 8
        }
      ],
      "source": [
        "np.unique(date_transform)"
      ],
      "id": "VUvax1_Wsukj"
    },
    {
      "cell_type": "markdown",
      "source": [
        "# Нормализацию числовых признаков"
      ],
      "metadata": {
        "id": "BxhD32Hffza7"
      },
      "id": "BxhD32Hffza7"
    },
    {
      "cell_type": "code",
      "source": [
        "def diagnostic_plots(df, variable):\n",
        "    plt.figure(figsize=(15,6))\n",
        "    plt.subplot(1, 2, 1)\n",
        "    df[variable].hist(bins=30)\n",
        "    plt.subplot(1, 2, 2)\n",
        "    stats.probplot(df[variable], dist=\"norm\", plot=plt)\n",
        "    plt.show()"
      ],
      "metadata": {
        "id": "NPIZ7adPexzJ"
      },
      "id": "NPIZ7adPexzJ",
      "execution_count": 25,
      "outputs": []
    },
    {
      "cell_type": "code",
      "execution_count": 26,
      "metadata": {
        "colab": {
          "base_uri": "https://localhost:8080/",
          "height": 410
        },
        "id": "e27f4e71",
        "outputId": "29453153-48ee-415e-aa89-17505ae4d22b",
        "scrolled": true
      },
      "outputs": [
        {
          "output_type": "display_data",
          "data": {
            "text/plain": [
              "<Figure size 1080x432 with 2 Axes>"
            ],
            "image/png": "[encoded data removed]"
          },
          "metadata": {}
        }
      ],
      "source": [
        "diagnostic_plots(data, 'price')"
      ],
      "id": "e27f4e71"
    },
    {
      "cell_type": "code",
      "execution_count": 27,
      "metadata": {
        "colab": {
          "base_uri": "https://localhost:8080/",
          "height": 410
        },
        "id": "bf3c2ce5",
        "outputId": "2a7f71fa-a7c3-4093-979f-68887e9620ca"
      },
      "outputs": [
        {
          "output_type": "display_data",
          "data": {
            "text/plain": [
              "<Figure size 1080x432 with 2 Axes>"
            ],
            "image/png": "[encoded data removed]"
          },
          "metadata": {}
        }
      ],
      "source": [
        "data['price_sqr'] = data['price']**(1/2)\n",
        "diagnostic_plots(data, 'price_sqr')"
      ],
      "id": "bf3c2ce5"
    },
    {
      "cell_type": "code",
      "execution_count": 28,
      "metadata": {
        "colab": {
          "base_uri": "https://localhost:8080/",
          "height": 427
        },
        "id": "c65567f9",
        "outputId": "672eb29a-a11c-458d-a317-aff6f3d972c1"
      },
      "outputs": [
        {
          "output_type": "stream",
          "name": "stdout",
          "text": [
            "Оптимальное значение λ = -0.08510004004572988\n"
          ]
        },
        {
          "output_type": "display_data",
          "data": {
            "text/plain": [
              "<Figure size 1080x432 with 2 Axes>"
            ],
            "image/png": "[encoded data removed]"
          },
          "metadata": {}
        }
      ],
      "source": [
        "data['price_boxcox'], param = stats.boxcox(data['price'])\n",
        "print('Оптимальное значение λ = {}'.format(param))\n",
        "diagnostic_plots(data, 'price_boxcox')"
      ],
      "id": "c65567f9"
    },
    {
      "cell_type": "code",
      "execution_count": null,
      "metadata": {
        "id": "7032b2dd"
      },
      "outputs": [],
      "source": [
        ""
      ],
      "id": "7032b2dd"
    },
    {
      "cell_type": "code",
      "execution_count": null,
      "metadata": {
        "id": "pPn4D2kjcuhb"
      },
      "outputs": [],
      "source": [
        ""
      ],
      "id": "pPn4D2kjcuhb"
    }
  ],
  "metadata": {
    "colab": {
      "name": "Lab_2.ipynb",
      "provenance": []
    },
    "kernelspec": {
      "display_name": "Python 3",
      "language": "python",
      "name": "python3"
    },
    "language_info": {
      "codemirror_mode": {
        "name": "ipython",
        "version": 3
      },
      "file_extension": ".py",
      "mimetype": "text/x-python",
      "name": "python",
      "nbconvert_exporter": "python",
      "pygments_lexer": "ipython3",
      "version": "3.8.5"
    }
  },
  "nbformat": 4,
  "nbformat_minor": 5
}