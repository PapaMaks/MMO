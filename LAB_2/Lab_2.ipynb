{
 "cells": [
  {
   "cell_type": "markdown",
   "metadata": {
    "colab_type": "text",
    "id": "view-in-github"
   },
   "source": [
    "<a href=\"https://colab.research.google.com/github/nikbizkit/MMO/blob/main/LR2.ipynb\" target=\"_parent\"><img src=\"https://colab.research.google.com/assets/colab-badge.svg\" alt=\"Open In Colab\"/></a>"
   ]
  },
  {
   "cell_type": "markdown",
   "metadata": {
    "id": "637f98c0"
   },
   "source": [
    "# Выполнил: Бакланов Н.В. ИУ5-23М"
   ]
  },
  {
   "cell_type": "code",
   "execution_count": 36,
   "metadata": {
    "id": "ea13bc43"
   },
   "outputs": [],
   "source": [
    "import numpy as np\n",
    "import pandas as pd\n",
    "import seaborn as sns\n",
    "import matplotlib.pyplot as plt\n",
    "from statsmodels.graphics.gofplots import ProbPlot\n",
    "from sklearn.impute import SimpleImputer\n",
    "from sklearn.impute import MissingIndicator\n",
    "from sklearn.impute import KNNImputer\n",
    "from sklearn.preprocessing import StandardScaler\n",
    "from sklearn.preprocessing import LabelEncoder\n",
    "from sklearn.preprocessing import OneHotEncoder\n",
    "from sklearn.pipeline import Pipeline\n",
    "from sklearn.model_selection import GridSearchCV\n",
    "from sklearn.experimental import enable_iterative_imputer\n",
    "from sklearn.impute import IterativeImputer\n",
    "from IPython.display import Image\n",
    "import matplotlib.pyplot as plt\n",
    "import scipy.stats as stats\n",
    "%matplotlib inline \n",
    "sns.set(style=\"ticks\")"
   ]
  },
  {
   "cell_type": "code",
   "execution_count": 37,
   "metadata": {
    "colab": {
     "base_uri": "https://localhost:8080/",
     "height": 560
    },
    "id": "ee1ad40e",
    "outputId": "c7f1f999-6aec-40a4-d2ff-fc41d3ea2960"
   },
   "outputs": [
    {
     "data": {
      "text/html": [
       "<div>\n",
       "<style scoped>\n",
       "    .dataframe tbody tr th:only-of-type {\n",
       "        vertical-align: middle;\n",
       "    }\n",
       "\n",
       "    .dataframe tbody tr th {\n",
       "        vertical-align: top;\n",
       "    }\n",
       "\n",
       "    .dataframe thead th {\n",
       "        text-align: right;\n",
       "    }\n",
       "</style>\n",
       "<table border=\"1\" class=\"dataframe\">\n",
       "  <thead>\n",
       "    <tr style=\"text-align: right;\">\n",
       "      <th></th>\n",
       "      <th>cpuName</th>\n",
       "      <th>price</th>\n",
       "      <th>cpuMark</th>\n",
       "      <th>cpuValue</th>\n",
       "      <th>threadMark</th>\n",
       "      <th>threadValue</th>\n",
       "      <th>TDP</th>\n",
       "      <th>powerPerf</th>\n",
       "      <th>cores</th>\n",
       "      <th>testDate</th>\n",
       "      <th>socket</th>\n",
       "      <th>category</th>\n",
       "    </tr>\n",
       "  </thead>\n",
       "  <tbody>\n",
       "    <tr>\n",
       "      <th>0</th>\n",
       "      <td>AMD Ryzen Threadripper PRO 5995WX</td>\n",
       "      <td>NaN</td>\n",
       "      <td>108822</td>\n",
       "      <td>NaN</td>\n",
       "      <td>3330</td>\n",
       "      <td>NaN</td>\n",
       "      <td>280.0</td>\n",
       "      <td>388.65</td>\n",
       "      <td>64</td>\n",
       "      <td>2022</td>\n",
       "      <td>sWRX8</td>\n",
       "      <td>Desktop</td>\n",
       "    </tr>\n",
       "    <tr>\n",
       "      <th>1</th>\n",
       "      <td>AMD EPYC 7763</td>\n",
       "      <td>7299.99</td>\n",
       "      <td>88338</td>\n",
       "      <td>12.10</td>\n",
       "      <td>2635</td>\n",
       "      <td>0.36</td>\n",
       "      <td>280.0</td>\n",
       "      <td>315.49</td>\n",
       "      <td>64</td>\n",
       "      <td>2021</td>\n",
       "      <td>SP3</td>\n",
       "      <td>Server</td>\n",
       "    </tr>\n",
       "    <tr>\n",
       "      <th>2</th>\n",
       "      <td>AMD EPYC 7J13</td>\n",
       "      <td>NaN</td>\n",
       "      <td>86006</td>\n",
       "      <td>NaN</td>\n",
       "      <td>2387</td>\n",
       "      <td>NaN</td>\n",
       "      <td>NaN</td>\n",
       "      <td>NaN</td>\n",
       "      <td>64</td>\n",
       "      <td>2021</td>\n",
       "      <td>unknown</td>\n",
       "      <td>Server</td>\n",
       "    </tr>\n",
       "    <tr>\n",
       "      <th>3</th>\n",
       "      <td>AMD EPYC 7713</td>\n",
       "      <td>7060.00</td>\n",
       "      <td>85861</td>\n",
       "      <td>12.16</td>\n",
       "      <td>2727</td>\n",
       "      <td>0.39</td>\n",
       "      <td>225.0</td>\n",
       "      <td>381.6</td>\n",
       "      <td>64</td>\n",
       "      <td>2021</td>\n",
       "      <td>SP3</td>\n",
       "      <td>Server</td>\n",
       "    </tr>\n",
       "    <tr>\n",
       "      <th>4</th>\n",
       "      <td>AMD Ryzen Threadripper PRO 3995WX</td>\n",
       "      <td>6807.98</td>\n",
       "      <td>83971</td>\n",
       "      <td>12.33</td>\n",
       "      <td>2626</td>\n",
       "      <td>0.39</td>\n",
       "      <td>280.0</td>\n",
       "      <td>299.9</td>\n",
       "      <td>64</td>\n",
       "      <td>2020</td>\n",
       "      <td>sWRX8</td>\n",
       "      <td>Desktop</td>\n",
       "    </tr>\n",
       "  </tbody>\n",
       "</table>\n",
       "</div>"
      ],
      "text/plain": [
       "                             cpuName    price  cpuMark  cpuValue  threadMark  \\\n",
       "0  AMD Ryzen Threadripper PRO 5995WX      NaN   108822       NaN        3330   \n",
       "1                      AMD EPYC 7763  7299.99    88338     12.10        2635   \n",
       "2                      AMD EPYC 7J13      NaN    86006       NaN        2387   \n",
       "3                      AMD EPYC 7713  7060.00    85861     12.16        2727   \n",
       "4  AMD Ryzen Threadripper PRO 3995WX  6807.98    83971     12.33        2626   \n",
       "\n",
       "   threadValue    TDP powerPerf  cores  testDate   socket category  \n",
       "0          NaN  280.0    388.65     64      2022    sWRX8  Desktop  \n",
       "1         0.36  280.0    315.49     64      2021      SP3   Server  \n",
       "2          NaN    NaN       NaN     64      2021  unknown   Server  \n",
       "3         0.39  225.0     381.6     64      2021      SP3   Server  \n",
       "4         0.39  280.0     299.9     64      2020    sWRX8  Desktop  "
      ]
     },
     "execution_count": 37,
     "metadata": {},
     "output_type": "execute_result"
    }
   ],
   "source": [
    "data = pd.read_csv('cpu.csv')\n",
    "data.head()"
   ]
  },
  {
   "cell_type": "code",
   "execution_count": 38,
   "metadata": {
    "colab": {
     "base_uri": "https://localhost:8080/"
    },
    "id": "0d3dd635",
    "outputId": "1b24a3dc-580c-4224-9d6a-ba6450370bdd"
   },
   "outputs": [
    {
     "data": {
      "text/plain": [
       "cpuName         object\n",
       "price          float64\n",
       "cpuMark          int64\n",
       "cpuValue       float64\n",
       "threadMark       int64\n",
       "threadValue    float64\n",
       "TDP            float64\n",
       "powerPerf       object\n",
       "cores            int64\n",
       "testDate         int64\n",
       "socket          object\n",
       "category        object\n",
       "dtype: object"
      ]
     },
     "execution_count": 38,
     "metadata": {},
     "output_type": "execute_result"
    }
   ],
   "source": [
    "data.dtypes"
   ]
  },
  {
   "cell_type": "code",
   "execution_count": 39,
   "metadata": {
    "colab": {
     "base_uri": "https://localhost:8080/"
    },
    "id": "ae577618",
    "outputId": "1ae8542c-3336-4e82-9b55-121a75b95f20"
   },
   "outputs": [
    {
     "data": {
      "text/plain": [
       "cpuName           0\n",
       "price          1858\n",
       "cpuMark           0\n",
       "cpuValue       1858\n",
       "threadMark        0\n",
       "threadValue    1858\n",
       "TDP             685\n",
       "powerPerf       685\n",
       "cores             0\n",
       "testDate          0\n",
       "socket            0\n",
       "category          0\n",
       "dtype: int64"
      ]
     },
     "execution_count": 39,
     "metadata": {},
     "output_type": "execute_result"
    }
   ],
   "source": [
    "data.isnull().sum()"
   ]
  },
  {
   "cell_type": "code",
   "execution_count": 40,
   "metadata": {
    "colab": {
     "base_uri": "https://localhost:8080/"
    },
    "id": "832e76cd",
    "outputId": "917f62b1-fd36-40eb-9679-1ebce13887ac"
   },
   "outputs": [
    {
     "data": {
      "text/plain": [
       "cpuName        0\n",
       "price          0\n",
       "cpuMark        0\n",
       "cpuValue       0\n",
       "threadMark     0\n",
       "threadValue    0\n",
       "TDP            0\n",
       "powerPerf      0\n",
       "cores          0\n",
       "testDate       0\n",
       "socket         0\n",
       "category       0\n",
       "dtype: int64"
      ]
     },
     "execution_count": 40,
     "metadata": {},
     "output_type": "execute_result"
    }
   ],
   "source": [
    "data = data.dropna(axis=0, how='any')\n",
    "data.isnull().sum()"
   ]
  },
  {
   "cell_type": "code",
   "execution_count": 41,
   "metadata": {
    "id": "91f6999a"
   },
   "outputs": [],
   "source": [
    "date = LabelEncoder()\n",
    "date_transform = date.fit_transform(data['cpuName'])"
   ]
  },
  {
   "cell_type": "code",
   "execution_count": 42,
   "metadata": {
    "colab": {
     "base_uri": "https://localhost:8080/"
    },
    "id": "pShdeWMzsrQX",
    "outputId": "c0e4ebfe-675e-480f-b8c1-70386f4d8be3"
   },
   "outputs": [
    {
     "data": {
      "text/plain": [
       "array(['AMD EPYC 7763', 'AMD EPYC 7713',\n",
       "       'AMD Ryzen Threadripper PRO 3995WX', ...,\n",
       "       'Intel Atom D410 @ 1.66GHz', 'AMD Athlon XP 1700+',\n",
       "       'Intel Atom E3815 @ 1.46GHz'], dtype=object)"
      ]
     },
     "execution_count": 42,
     "metadata": {},
     "output_type": "execute_result"
    }
   ],
   "source": [
    "data['cpuName'].unique()"
   ]
  },
  {
   "cell_type": "code",
   "execution_count": 43,
   "metadata": {
    "colab": {
     "base_uri": "https://localhost:8080/"
    },
    "id": "VUvax1_Wsukj",
    "outputId": "9b17ffb9-11ca-49f2-ef6a-15ffc90ddcee"
   },
   "outputs": [
    {
     "data": {
      "text/plain": [
       "array([   0,    1,    2, ..., 1935, 1936, 1937])"
      ]
     },
     "execution_count": 43,
     "metadata": {},
     "output_type": "execute_result"
    }
   ],
   "source": [
    "np.unique(date_transform)"
   ]
  },
  {
   "cell_type": "code",
   "execution_count": 44,
   "metadata": {
    "colab": {
     "base_uri": "https://localhost:8080/",
     "height": 410
    },
    "id": "e27f4e71",
    "outputId": "8596a19d-2eb4-4fd5-994e-7c42b1ace40b",
    "scrolled": true
   },
   "outputs": [
    {
     "ename": "NameError",
     "evalue": "name 'diagnostic_plots' is not defined",
     "output_type": "error",
     "traceback": [
      "\u001b[1;31m---------------------------------------------------------------------------\u001b[0m",
      "\u001b[1;31mNameError\u001b[0m                                 Traceback (most recent call last)",
      "\u001b[1;32m<ipython-input-44-8fe5f797ac3a>\u001b[0m in \u001b[0;36m<module>\u001b[1;34m\u001b[0m\n\u001b[1;32m----> 1\u001b[1;33m \u001b[0mdiagnostic_plots\u001b[0m\u001b[1;33m(\u001b[0m\u001b[0mdata\u001b[0m\u001b[1;33m,\u001b[0m \u001b[1;34m'cpuMark'\u001b[0m\u001b[1;33m)\u001b[0m\u001b[1;33m\u001b[0m\u001b[1;33m\u001b[0m\u001b[0m\n\u001b[0m",
      "\u001b[1;31mNameError\u001b[0m: name 'diagnostic_plots' is not defined"
     ]
    }
   ],
   "source": [
    " diagnostic_plots(data, 'cpuMark')"
   ]
  },
  {
   "cell_type": "code",
   "execution_count": 45,
   "metadata": {
    "colab": {
     "base_uri": "https://localhost:8080/",
     "height": 410
    },
    "id": "bf3c2ce5",
    "outputId": "34df34a6-899b-4cce-8964-fc80174febac"
   },
   "outputs": [
    {
     "ename": "NameError",
     "evalue": "name 'diagnostic_plots' is not defined",
     "output_type": "error",
     "traceback": [
      "\u001b[1;31m---------------------------------------------------------------------------\u001b[0m",
      "\u001b[1;31mNameError\u001b[0m                                 Traceback (most recent call last)",
      "\u001b[1;32m<ipython-input-45-802a85dcc54a>\u001b[0m in \u001b[0;36m<module>\u001b[1;34m\u001b[0m\n\u001b[0;32m      1\u001b[0m \u001b[0mdata\u001b[0m\u001b[1;33m[\u001b[0m\u001b[1;34m'cpuMark_sqr'\u001b[0m\u001b[1;33m]\u001b[0m \u001b[1;33m=\u001b[0m \u001b[0mdata\u001b[0m\u001b[1;33m[\u001b[0m\u001b[1;34m'cpuMark'\u001b[0m\u001b[1;33m]\u001b[0m\u001b[1;33m**\u001b[0m\u001b[1;33m(\u001b[0m\u001b[1;36m1\u001b[0m\u001b[1;33m/\u001b[0m\u001b[1;36m2\u001b[0m\u001b[1;33m)\u001b[0m\u001b[1;33m\u001b[0m\u001b[1;33m\u001b[0m\u001b[0m\n\u001b[1;32m----> 2\u001b[1;33m \u001b[0mdiagnostic_plots\u001b[0m\u001b[1;33m(\u001b[0m\u001b[0mdata\u001b[0m\u001b[1;33m,\u001b[0m \u001b[1;34m'cpuMark_sqr'\u001b[0m\u001b[1;33m)\u001b[0m\u001b[1;33m\u001b[0m\u001b[1;33m\u001b[0m\u001b[0m\n\u001b[0m",
      "\u001b[1;31mNameError\u001b[0m: name 'diagnostic_plots' is not defined"
     ]
    }
   ],
   "source": [
    "data['cpuMark_sqr'] = data['cpuMark']**(1/2)\n",
    "diagnostic_plots(data, 'cpuMark_sqr')"
   ]
  },
  {
   "cell_type": "code",
   "execution_count": 46,
   "metadata": {
    "colab": {
     "base_uri": "https://localhost:8080/",
     "height": 427
    },
    "id": "c65567f9",
    "outputId": "14866125-c0f0-4209-a9df-70dfadaeff76"
   },
   "outputs": [
    {
     "name": "stdout",
     "output_type": "stream",
     "text": [
      "Оптимальное значение λ = 0.1546695787224956\n"
     ]
    },
    {
     "ename": "NameError",
     "evalue": "name 'diagnostic_plots' is not defined",
     "output_type": "error",
     "traceback": [
      "\u001b[1;31m---------------------------------------------------------------------------\u001b[0m",
      "\u001b[1;31mNameError\u001b[0m                                 Traceback (most recent call last)",
      "\u001b[1;32m<ipython-input-46-1c6b390139af>\u001b[0m in \u001b[0;36m<module>\u001b[1;34m\u001b[0m\n\u001b[0;32m      1\u001b[0m \u001b[0mdata\u001b[0m\u001b[1;33m[\u001b[0m\u001b[1;34m'threadValue_boxcox'\u001b[0m\u001b[1;33m]\u001b[0m\u001b[1;33m,\u001b[0m \u001b[0mparam\u001b[0m \u001b[1;33m=\u001b[0m \u001b[0mstats\u001b[0m\u001b[1;33m.\u001b[0m\u001b[0mboxcox\u001b[0m\u001b[1;33m(\u001b[0m\u001b[0mdata\u001b[0m\u001b[1;33m[\u001b[0m\u001b[1;34m'threadValue'\u001b[0m\u001b[1;33m]\u001b[0m\u001b[1;33m)\u001b[0m\u001b[1;33m\u001b[0m\u001b[1;33m\u001b[0m\u001b[0m\n\u001b[0;32m      2\u001b[0m \u001b[0mprint\u001b[0m\u001b[1;33m(\u001b[0m\u001b[1;34m'Оптимальное значение λ = {}'\u001b[0m\u001b[1;33m.\u001b[0m\u001b[0mformat\u001b[0m\u001b[1;33m(\u001b[0m\u001b[0mparam\u001b[0m\u001b[1;33m)\u001b[0m\u001b[1;33m)\u001b[0m\u001b[1;33m\u001b[0m\u001b[1;33m\u001b[0m\u001b[0m\n\u001b[1;32m----> 3\u001b[1;33m \u001b[0mdiagnostic_plots\u001b[0m\u001b[1;33m(\u001b[0m\u001b[0mdata\u001b[0m\u001b[1;33m,\u001b[0m \u001b[1;34m'threadValue_boxcox'\u001b[0m\u001b[1;33m)\u001b[0m\u001b[1;33m\u001b[0m\u001b[1;33m\u001b[0m\u001b[0m\n\u001b[0m",
      "\u001b[1;31mNameError\u001b[0m: name 'diagnostic_plots' is not defined"
     ]
    }
   ],
   "source": [
    "data['threadValue_boxcox'], param = stats.boxcox(data['threadValue'])\n",
    "print('Оптимальное значение λ = {}'.format(param))\n",
    "diagnostic_plots(data, 'threadValue_boxcox')"
   ]
  },
  {
   "cell_type": "code",
   "execution_count": null,
   "metadata": {
    "id": "7032b2dd"
   },
   "outputs": [],
   "source": []
  },
  {
   "cell_type": "code",
   "execution_count": null,
   "metadata": {},
   "outputs": [],
   "source": []
  }
 ],
 "metadata": {
  "colab": {
   "include_colab_link": true,
   "name": "LR2.ipynb",
   "provenance": []
  },
  "kernelspec": {
   "display_name": "Python 3",
   "language": "python",
   "name": "python3"
  },
  "language_info": {
   "codemirror_mode": {
    "name": "ipython",
    "version": 3
   },
   "file_extension": ".py",
   "mimetype": "text/x-python",
   "name": "python",
   "nbconvert_exporter": "python",
   "pygments_lexer": "ipython3",
   "version": "3.8.5"
  }
 },
 "nbformat": 4,
 "nbformat_minor": 5
}
